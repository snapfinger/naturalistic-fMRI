{
 "cells": [
  {
   "cell_type": "code",
   "execution_count": null,
   "metadata": {},
   "outputs": [],
   "source": [
    "import nilearn\n",
    "from nilearn.decomposition import CanICA\n",
    "import scipy\n",
    "from scipy import io\n",
    "import h5py\n",
    "import numpy as np\n",
    "import nibabel as nib\n",
    "import os\n",
    "import pandas as pd"
   ]
  },
  {
   "cell_type": "code",
   "execution_count": null,
   "metadata": {},
   "outputs": [],
   "source": [
    "nilearn.__version__"
   ]
  },
  {
   "cell_type": "code",
   "execution_count": null,
   "metadata": {},
   "outputs": [],
   "source": [
    "data_root = \"/hd2/research/Naturalistic/data/sans/\"\n",
    "code_root = \"/hd2/research/Naturalistic/code/SANS/\"\n",
    "\n",
    "sub_list = pd.read_csv(code_root + 'files/sublist', header=None)\n",
    "im_path = data_root + \"sans_bfp_minimal_tensor.mat\""
   ]
  },
  {
   "cell_type": "code",
   "execution_count": null,
   "metadata": {},
   "outputs": [],
   "source": [
    "# load grayordinate data: only need to run once\n",
    "# ICA does not need synchronization\n",
    "with h5py.File(im_path, 'r') as f:\n",
    "    im = np.array(f['tensor'])"
   ]
  },
  {
   "cell_type": "code",
   "execution_count": null,
   "metadata": {},
   "outputs": [],
   "source": [
    "print(im.shape)\n",
    "print(im.dtype)\n",
    "\n",
    "num_sub = im.shape[0]"
   ]
  },
  {
   "cell_type": "code",
   "execution_count": null,
   "metadata": {
    "scrolled": true
   },
   "outputs": [],
   "source": [
    "# if haven't sliced images\n",
    "nib_file_list = []\n",
    "\n",
    "for i in np.arange(num_sub):\n",
    "    cur_im = im[i, :, :]\n",
    "    cur_im = np.expand_dims(cur_im, [1, 2])\n",
    "    cur_im_nib = nib.Nifti1Image(cur_im, affine=np.eye(4))\n",
    "    cur_save_path = data_root + \"ICA/input/tfMRI_11k_%d.nii\" % (i + 1)\n",
    "    nib.save(cur_im_nib, cur_save_path)\n",
    "    nib_file_list.append(cur_save_path)\n",
    "#     print(sub)\n",
    "\n",
    "nib_file_list"
   ]
  },
  {
   "cell_type": "code",
   "execution_count": null,
   "metadata": {
    "scrolled": true
   },
   "outputs": [],
   "source": [
    "# if images already sliced\n",
    "\n",
    "nib_file_list = []\n",
    "\n",
    "for i in np.arange(num_sub):\n",
    "    cur_save_path = rst_path + \"ICA/input/\" + \"tfMRI_%s_7T_11k_%d.nii\" % (movie_name_v1, i+1)\n",
    "    nib_file_list.append(cur_save_path)\n",
    "    \n",
    "nib_file_list"
   ]
  },
  {
   "cell_type": "code",
   "execution_count": null,
   "metadata": {},
   "outputs": [],
   "source": [
    "im1 = nib.load(data_root + 'ICA/input/tfMRI_11k_1.nii')\n",
    "mask = np.ones(im1.shape[0:3]).astype(np.float32)\n",
    "im1_mask = nib.Nifti1Image(mask, affine=np.eye(4))\n",
    "print(mask.shape)\n",
    "print(mask.dtype)"
   ]
  },
  {
   "cell_type": "code",
   "execution_count": null,
   "metadata": {
    "scrolled": true
   },
   "outputs": [],
   "source": [
    "canica = CanICA(mask=im1_mask, n_components=30, detrend=False, standardize=True, \\\n",
    "                threshold=None, mask_strategy=None, smoothing_fwhm=None, \\\n",
    "                n_init=10, verbose=True,\n",
    "                memory=\"nilearn_cache\", memory_level=2)\n",
    "canica.fit(nib_file_list)"
   ]
  },
  {
   "cell_type": "code",
   "execution_count": null,
   "metadata": {},
   "outputs": [],
   "source": [
    "trans = canica.transform(nib_file_list)"
   ]
  },
  {
   "cell_type": "code",
   "execution_count": null,
   "metadata": {},
   "outputs": [],
   "source": [
    "canica_components_img = canica.components_img_\n",
    "canica_components_img.shape"
   ]
  },
  {
   "cell_type": "code",
   "execution_count": null,
   "metadata": {},
   "outputs": [],
   "source": [
    "canica_comp_arr = nilearn.image.get_data(canica_components_img)\n",
    "canica_comp_new = np.squeeze(canica_comp_arr)\n",
    "print(canica_comp_new.shape)\n",
    "\n",
    "print(len(trans))\n",
    "print(trans[0].shape)\n",
    "\n",
    "scipy.io.savemat(data_root + \"ICA/output/CanICA_decomp.mat\", mdict={'spatial': canica_comp_new, 'temporal': trans})"
   ]
  }
 ],
 "metadata": {
  "kernelspec": {
   "display_name": "Python 3 (ipykernel)",
   "language": "python",
   "name": "python3"
  },
  "language_info": {
   "codemirror_mode": {
    "name": "ipython",
    "version": 3
   },
   "file_extension": ".py",
   "mimetype": "text/x-python",
   "name": "python",
   "nbconvert_exporter": "python",
   "pygments_lexer": "ipython3",
   "version": "3.8.10"
  }
 },
 "nbformat": 4,
 "nbformat_minor": 4
}
