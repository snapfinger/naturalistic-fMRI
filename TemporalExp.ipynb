{
 "cells": [
  {
   "cell_type": "code",
   "execution_count": null,
   "metadata": {},
   "outputs": [],
   "source": [
    "import numpy as np\n",
    "import h5py\n",
    "import matplotlib.pyplot as plt\n",
    "import seaborn as sns\n",
    "import pandas as pd\n",
    "import scipy.io\n",
    "import scipy\n",
    "\n",
    "from scipy.stats.stats import pearsonr\n",
    "from scipy.stats.stats import spearmanr\n",
    "import brainiak.utils.fmrisim\n",
    "\n",
    "# other software used\n",
    "# BrainSuite Functional Pipeline\n",
    "# Group BrainSync\n",
    "# NASCAR\n",
    "# MIRtoolbox\n",
    "\n",
    "%matplotlib inline"
   ]
  },
  {
   "cell_type": "code",
   "execution_count": null,
   "metadata": {},
   "outputs": [],
   "source": [
    "stimuli_root = '/hd2/research/Naturalistic/data/sans/stimuli/FeatureExtraction/'\n",
    "brightness = scipy.io.loadmat(stimuli_root + 'stimuli_FNL_01_MeanGrayLevel.mat')\n",
    "brightness = brightness['mean_gray_level']\n",
    "print(brightness.shape)\n",
    "\n",
    "RMS = scipy.io.loadmat(stimuli_root + 'stimuli_FNL_01_RMS.mat')\n",
    "RMS = RMS['rms']\n",
    "RMS = RMS.T\n",
    "print(RMS.shape)"
   ]
  },
  {
   "cell_type": "code",
   "execution_count": null,
   "metadata": {},
   "outputs": [],
   "source": [
    "def normalizeData(X):\n",
    "    \n",
    "    import sklearn.preprocessing\n",
    "    \n",
    "    X_mean0 = X - np.mean(X, axis=0, keepdims=True) \n",
    "    X_normalized = sklearn.preprocessing.normalize(X_mean0, axis=0)\n",
    "    \n",
    "    return X_normalized"
   ]
  },
  {
   "cell_type": "code",
   "execution_count": null,
   "metadata": {},
   "outputs": [],
   "source": [
    "# load ICA components\n",
    "ica_comp_path = '/hd2/research/Naturalistic/data/sans/ICA/output/CanICA_decomp.mat'\n",
    "\n",
    "f = scipy.io.loadmat(ica_comp_path)\n",
    "ica_temporal = f['temporal']\n",
    "ica_spatial = f['spatial']\n",
    "\n",
    "print(ica_temporal.shape)"
   ]
  },
  {
   "cell_type": "code",
   "execution_count": null,
   "metadata": {},
   "outputs": [],
   "source": [
    "# load decomposed components\n",
    "\n",
    "output_root = '/hd2/research/Naturalistic/code/SANS/output/'\n",
    "\n",
    "gsync_path = output_root + 'GBS_Params_minimal.mat'\n",
    "comp_path = output_root + 'NASCAR_Rank_rst0.mat'\n",
    "\n",
    "R = 30\n",
    "\n",
    "# load decomposed components\n",
    "with h5py.File(comp_path, 'r') as f:\n",
    "    test = f['result/U']\n",
    "    ref = test.ref\n",
    "    U = f[ref][:]\n",
    "    last_comp = U[R - 1][0]\n",
    "    temporal_R = np.array(f[f[last_comp][0, 0]]).T\n",
    "    subject_R = np.array(f[f[last_comp][0, 2]]).T\n",
    "    \n",
    "    test = f['result/Lambda']\n",
    "    ref = test.ref\n",
    "    lambdas = f[ref][:]\n",
    "    last_lambdas = lambdas[R - 1][0]\n",
    "    lambda_arr = f[last_lambdas][0, :]\n",
    "    \n",
    "fmri_len, _ = temporal_R.shape\n",
    "subj_num, _ = subject_R.shape\n",
    "\n",
    "TR = 2"
   ]
  },
  {
   "cell_type": "code",
   "execution_count": null,
   "metadata": {
    "scrolled": false
   },
   "outputs": [],
   "source": [
    "# load feature: brightness\n",
    "brightness_norm_hrf = normalizeData(brainiak.utils.fmrisim.convolve_hrf(brightness, TR, scale_function=True, temporal_resolution=1/TR))\n",
    "print(brightness_norm_hrf.shape)\n",
    "\n",
    "# load feature: loudness\n",
    "RMS_norm_hrf = normalizeData(brainiak.utils.fmrisim.convolve_hrf(RMS, TR, scale_function=True, temporal_resolution=1/TR))\n",
    "print(RMS_norm_hrf.shape)"
   ]
  },
  {
   "cell_type": "code",
   "execution_count": null,
   "metadata": {},
   "outputs": [],
   "source": [
    "# nascar visual: 15th net\n",
    "avg_temporal = np.mean(ori_subj_temporal[:, 14, :], axis=1)\n",
    "avg_nascar_temporal = avg_temporal.reshape([-1, 1])\n",
    "print(\"nascar\", pearsonr(avg_nascar_temporal[time_shift: len(brightness_norm_hrf)+time_shift].flatten(), brightness_norm_hrf.flatten()))\n",
    "    \n",
    "# ica visual: 16th net\n",
    "avg_ica_temporal = np.mean(ica_temporal[:, :, 15], axis=0)\n",
    "avg_ica_temporal = avg_ica_temporal.reshape([-1, 1])\n",
    "print(\"nascar\", pearsonr(avg_ica_temporal[time_shift: len(brightness_norm_hrf)+time_shift].flatten(), brightness_norm_hrf.flatten()))"
   ]
  },
  {
   "cell_type": "code",
   "execution_count": null,
   "metadata": {},
   "outputs": [],
   "source": [
    "# transform temporal mode back to subject space\n",
    "print(\"loading: \" + gsync_path)\n",
    "f = scipy.io.loadmat(gsync_path)\n",
    "orth_trans = f['O']\n",
    "\n",
    "subj_num = orth_trans.shape[2]\n",
    "temporal_len = temporal_R.shape[0]\n",
    "\n",
    "ori_subj_temporal = np.zeros((temporal_len, R, subj_num))\n",
    "\n",
    "for i in range(subj_num):\n",
    "    ori_subj_temporal[:, :, i] = np.matmul(orth_trans[:, :, i].T, temporal_R)"
   ]
  },
  {
   "cell_type": "code",
   "execution_count": null,
   "metadata": {},
   "outputs": [],
   "source": [
    "plt.rc('font', size=15);\n",
    "f, ax = plt.subplots(figsize=(15, 8));\n",
    "plt.plot(np.arange(len(RMS_norm_hrf)), RMS_norm_hrf);\n",
    "plt.plot(np.arange(len(brightness_norm_hrf)), brightness_norm_hrf);\n",
    "plt.legend(['loudness (RMS)', 'brightness (mean gray level)']);\n",
    "plt.xlabel('TR');"
   ]
  }
 ],
 "metadata": {
  "kernelspec": {
   "display_name": "Python 3 (ipykernel)",
   "language": "python",
   "name": "python3"
  },
  "language_info": {
   "codemirror_mode": {
    "name": "ipython",
    "version": 3
   },
   "file_extension": ".py",
   "mimetype": "text/x-python",
   "name": "python",
   "nbconvert_exporter": "python",
   "pygments_lexer": "ipython3",
   "version": "3.8.10"
  }
 },
 "nbformat": 4,
 "nbformat_minor": 4
}
