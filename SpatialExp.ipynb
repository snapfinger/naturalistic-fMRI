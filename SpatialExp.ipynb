{
 "cells": [
  {
   "cell_type": "code",
   "execution_count": null,
   "metadata": {},
   "outputs": [],
   "source": [
    "import numpy as np\n",
    "import h5py\n",
    "import matplotlib.pyplot as plt\n",
    "import seaborn as sns\n",
    "import pandas as pd\n",
    "import scipy.stats\n",
    "import scipy.io\n",
    "\n",
    "from scipy.stats.stats import pearsonr\n",
    "from scipy.stats.stats import spearmanr\n",
    "import brainiak.utils.fmrisim\n",
    "\n",
    "%matplotlib inline"
   ]
  },
  {
   "cell_type": "code",
   "execution_count": null,
   "metadata": {},
   "outputs": [],
   "source": [
    "def FlipSign(X):\n",
    "#  check if to flip sign of a network based on the spatial map\n",
    "#  input: \n",
    "#      X: column vector: spatial map\n",
    "#  return:\n",
    "#      assigned flip sign: 1 if don't filp; -1 if flip\n",
    "\n",
    "    sk = scipy.stats.skew(X);\n",
    "#   should flip sign\n",
    "    if sk < 0:\n",
    "        return -1\n",
    "#   should not \n",
    "    else:\n",
    "        return 1"
   ]
  },
  {
   "cell_type": "code",
   "execution_count": null,
   "metadata": {},
   "outputs": [],
   "source": [
    "# read decomposed components\n",
    "\n",
    "comp_path = '/hd2/research/Naturalistic/code/SANS/output/NASCAR_Rank_rst0.mat'\n",
    "\n",
    "R = 30\n",
    "\n",
    "# load decomposed components\n",
    "with h5py.File(comp_path, 'r') as f:\n",
    "    test = f['result/U']\n",
    "    ref = test.ref\n",
    "    U = f[ref][:]\n",
    "    last_comp = U[R - 1][0]\n",
    "    temporal_R = np.array(f[f[last_comp][0, 0]]).T\n",
    "    subject_R = np.array(f[f[last_comp][0, 2]]).T\n",
    "    spatial_R = np.array(f[f[last_comp][0, 1]]).T\n",
    "    \n",
    "    test = f['result/Lambda']\n",
    "    ref = test.ref\n",
    "    lambdas = f[ref][:]\n",
    "    last_lambdas = lambdas[R - 1][0]\n",
    "    lambda_arr = f[last_lambdas][0, :]\n",
    "    \n",
    "print(spatial_R.shape)\n",
    "\n",
    "fmri_len, _ = temporal_R.shape\n",
    "subj_num, _ = subject_R.shape\n",
    "vert_num, _ = spatial_R.shape"
   ]
  },
  {
   "cell_type": "code",
   "execution_count": null,
   "metadata": {},
   "outputs": [],
   "source": [
    "# read decomposed components from ICA\n",
    "ica_comp_path = '/hd2/research/Naturalistic/data/sans/ICA/output/CanICA_decomp.mat'\n",
    "\n",
    "# load decomposed components\n",
    "f = scipy.io.loadmat(ica_comp_path)\n",
    "ica_temporal = f['temporal']\n",
    "ica_spatial = f['spatial']"
   ]
  },
  {
   "cell_type": "code",
   "execution_count": null,
   "metadata": {},
   "outputs": [],
   "source": [
    "plt.rc('font', size=18)\n",
    "\n",
    "nascar_spatial_df = pd.DataFrame(spatial_R)\n",
    "corr = nascar_spatial_df.corr()\n",
    "corr_np = corr.to_numpy()\n",
    "mask = np.triu(np.ones_like(corr, dtype=bool))\n",
    "\n",
    "f, ax = plt.subplots(figsize=(18, 18));\n",
    "cmap = sns.diverging_palette(230, 20, as_cmap=True);\n",
    "sns.heatmap(abs(corr), mask=mask, cmap=cmap, fmt=\".2f\", vmax=.4, vmin=-0.4, center=0,\n",
    "            square=True, linewidths=.5, cbar_kws={\"shrink\": .75});\n",
    "\n",
    "ax.set_xlabel(\"Network index\", weight='bold'); ax.set_ylabel(\"Network index\", weight='bold');\n",
    "plt.xticks(np.arange(R), list(np.arange(R) + 1));\n",
    "plt.yticks(np.arange(R), list(np.arange(R) + 1));\n",
    "plt.title(\"Cross-network spatial absolute correlation (BrainSync+NASCAR)\", weight='bold', fontsize=23);\n",
    "\n",
    "\n",
    "\n",
    "ica_spatial_df = pd.DataFrame(ica_spatial)\n",
    "corr = ica_spatial_df.corr()\n",
    "corr_np = corr.to_numpy()\n",
    "mask = np.triu(np.ones_like(corr, dtype=bool))\n",
    "\n",
    "f, ax = plt.subplots(figsize=(18, 18));\n",
    "cmap = sns.diverging_palette(230, 20, as_cmap=True);\n",
    "sns.heatmap(abs(corr), mask=mask, cmap=cmap, vmax=.4, fmt=\".2f\",vmin=-0.4, center=0,\n",
    "            square=True, linewidths=.5, cbar_kws={\"shrink\": .75});\n",
    "plt.xlabel(\"Network index\", weight='bold'); plt.ylabel(\"Network index\", weight='bold');\n",
    "plt.xticks(np.arange(R), list(np.arange(R) + 1));\n",
    "plt.yticks(np.arange(R), list(np.arange(R) + 1));\n",
    "plt.title(\"Cross-network spatial absolute correlation (spatial ICA)\", weight='bold', fontsize=23);"
   ]
  }
 ],
 "metadata": {
  "kernelspec": {
   "display_name": "Python 3 (ipykernel)",
   "language": "python",
   "name": "python3"
  },
  "language_info": {
   "codemirror_mode": {
    "name": "ipython",
    "version": 3
   },
   "file_extension": ".py",
   "mimetype": "text/x-python",
   "name": "python",
   "nbconvert_exporter": "python",
   "pygments_lexer": "ipython3",
   "version": "3.8.10"
  }
 },
 "nbformat": 4,
 "nbformat_minor": 4
}
